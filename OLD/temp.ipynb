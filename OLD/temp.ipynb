{
 "cells": [
  {
   "cell_type": "code",
   "execution_count": 3,
   "metadata": {},
   "outputs": [],
   "source": [
    "import numpy as np\n",
    "import matplotlib.pyplot as plt"
   ]
  },
  {
   "cell_type": "code",
   "execution_count": 11,
   "metadata": {},
   "outputs": [],
   "source": [
    "upPro = 2.04 \n",
    "upTrp = 24.05 \n",
    "DiffP = 879 \n",
    "DiffT = 659 \n",
    "lPro = 1.59e-5\n",
    "lTrp = 6.04e-7 \n",
    "ic = 20 \n",
    "mu0 = 1.29/3600 \n",
    "rho = 0.65 \n",
    "rho2d = 0.22 \n",
    "cell_l = 5.2 \n",
    "cell_w = 0.68 \n",
    "beta = 0.88\n",
    "\n",
    "def mu_of_ex(ex, rl, ru, rmu):\n",
    "    return 1/2 * (-(1 + ex) * rl - ex * ru + np.sqrt(4 * ex * rmu * (rl + ru) + (rl + ex * (rl + ru))**2))\n",
    "\n",
    "def calc_r0(up, leak, D, rho):\n",
    "    effective_D = D * (1 - rho)**2 / (rho * (1 + rho / 2))\n",
    "    return np.sqrt( (effective_D) / (up + leak))\n",
    "\n",
    "lPDT = lPro\n",
    "lTDP = lTrp\n",
    "uPDT = upPro\n",
    "uTDP = upTrp\n",
    "\n",
    "r0PDP = calc_r0(upPro, lPro, DiffP, rho)\n",
    "r0TDT = calc_r0(upTrp, lTrp, DiffT, rho)\n",
    "r0PDT = calc_r0(upPro, lPro, DiffP, rho)\n",
    "r0TDP = calc_r0(upTrp, lTrp, DiffT, rho)\n",
    "\n",
    "\n"
   ]
  },
  {
   "cell_type": "code",
   "execution_count": 26,
   "metadata": {},
   "outputs": [],
   "source": [
    "wDP = np.linspace(0,1000,100)\n",
    "wDT = np.linspace(0,1000,100)\n",
    "\n",
    "ex_DP0 = (ic * lPDT * r0PDP * np.cosh(wDP / r0PDP)) / ((lPDT + uPDT) * (r0PDP * np.cosh(wDP / r0PDP) + r0PDT * np.sinh(wDP / r0PDP)))\n",
    "ex_DT0 = (ic * lTDP * r0TDT * np.cosh(wDT / r0TDT)) / ((lTDP + uTDP) * (r0TDT * np.cosh(wDT / r0TDT) + r0TDP * np.sinh(wDT / r0TDT)))\n",
    "\n",
    "mu_DP = mu_of_ex(ex_DP0, lPDT, uPDT, mu0)\n",
    "mu_DT = mu_of_ex(ex_DT0, lTDP, uTDP, mu0)\n"
   ]
  },
  {
   "cell_type": "code",
   "execution_count": 29,
   "metadata": {},
   "outputs": [
    {
     "data": {
      "text/plain": [
       "7.828545647567848"
      ]
     },
     "execution_count": 29,
     "metadata": {},
     "output_type": "execute_result"
    }
   ],
   "source": [
    "r0PDP\n"
   ]
  },
  {
   "cell_type": "code",
   "execution_count": null,
   "metadata": {},
   "outputs": [],
   "source": []
  },
  {
   "cell_type": "code",
   "execution_count": null,
   "metadata": {},
   "outputs": [],
   "source": []
  },
  {
   "cell_type": "code",
   "execution_count": null,
   "metadata": {},
   "outputs": [],
   "source": []
  }
 ],
 "metadata": {
  "kernelspec": {
   "display_name": "troph_env",
   "language": "python",
   "name": "python3"
  },
  "language_info": {
   "codemirror_mode": {
    "name": "ipython",
    "version": 3
   },
   "file_extension": ".py",
   "mimetype": "text/x-python",
   "name": "python",
   "nbconvert_exporter": "python",
   "pygments_lexer": "ipython3",
   "version": "3.10.10"
  }
 },
 "nbformat": 4,
 "nbformat_minor": 2
}
